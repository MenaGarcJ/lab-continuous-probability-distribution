{
 "cells": [
  {
   "cell_type": "markdown",
   "metadata": {},
   "source": [
    "# Before your start:\n",
    "\n",
    "    Read the README.md file\n",
    "    Comment as much as you can and use the resources (README.md file)\n",
    "    Happy learning!"
   ]
  },
  {
   "cell_type": "markdown",
   "metadata": {},
   "source": [
    "In this exercise, we  will generate random numbers from the continuous disributions we learned in the lesson. There are two ways to generate random numbers:\n",
    "\n",
    "1. Using the numpy library \n",
    "1. using the Scipy library \n",
    "\n",
    "Use either or both of the lbraries in this exercise."
   ]
  },
  {
   "cell_type": "markdown",
   "metadata": {},
   "source": [
    "## Uniform Distribution\n",
    "\n",
    "To generate uniform random numbers between any two given values using scipy, we can either use the following code or the code that we have\n",
    "discussed in class:"
   ]
  },
  {
   "cell_type": "code",
   "execution_count": 1,
   "metadata": {},
   "outputs": [
    {
     "name": "stdout",
     "output_type": "stream",
     "text": [
      "[2.64799568 2.38186165 2.5762281  2.15089059 2.20324629 2.24312849\n",
      " 2.1294141  2.22462725 2.57933303 2.33915631]\n"
     ]
    }
   ],
   "source": [
    "from scipy.stats import uniform\n",
    "x = uniform.rvs(size=10)\n",
    "a = 2\n",
    "b = 3\n",
    "randoms  = a + (b-a)*x\n",
    "print(randoms)"
   ]
  },
  {
   "cell_type": "markdown",
   "metadata": {},
   "source": [
    "**Your task:**\n",
    "\n",
    "1. Based on the code above, write a function that generates uniformly distributed random numbers. There are several requirements for your function:\n",
    "    * It should accept 3 parameters: \n",
    "        * `bottom` - the lower boundary of the generated numbers\n",
    "        * `ceiling` - the upper boundary of the generated numbers\n",
    "        * `count` - how many numbers to generate\n",
    "    * It should return an array of uniformly distributed random numbers\n",
    "\n",
    "1. Call your function with 2 sets of params below:\n",
    "    * bottom=10, ceiling=15, count=100\n",
    "    * bottom=10, ceiling=60, count=1,000\n",
    "\n",
    "1. Plot the uniform distributions generated above using histograms, where x axis is the value and y axis is the count. Let the histogram's number of bins be 10.\n",
    "\n",
    "Your output should look like below:\n",
    "\n",
    "![uniform distribution](ud.png)"
   ]
  },
  {
   "cell_type": "code",
   "execution_count": 5,
   "metadata": {},
   "outputs": [
    {
     "data": {
      "text/plain": [
       "array([10.        , 10.05050505, 10.1010101 , 10.15151515, 10.2020202 ,\n",
       "       10.25252525, 10.3030303 , 10.35353535, 10.4040404 , 10.45454545,\n",
       "       10.50505051, 10.55555556, 10.60606061, 10.65656566, 10.70707071,\n",
       "       10.75757576, 10.80808081, 10.85858586, 10.90909091, 10.95959596,\n",
       "       11.01010101, 11.06060606, 11.11111111, 11.16161616, 11.21212121,\n",
       "       11.26262626, 11.31313131, 11.36363636, 11.41414141, 11.46464646,\n",
       "       11.51515152, 11.56565657, 11.61616162, 11.66666667, 11.71717172,\n",
       "       11.76767677, 11.81818182, 11.86868687, 11.91919192, 11.96969697,\n",
       "       12.02020202, 12.07070707, 12.12121212, 12.17171717, 12.22222222,\n",
       "       12.27272727, 12.32323232, 12.37373737, 12.42424242, 12.47474747,\n",
       "       12.52525253, 12.57575758, 12.62626263, 12.67676768, 12.72727273,\n",
       "       12.77777778, 12.82828283, 12.87878788, 12.92929293, 12.97979798,\n",
       "       13.03030303, 13.08080808, 13.13131313, 13.18181818, 13.23232323,\n",
       "       13.28282828, 13.33333333, 13.38383838, 13.43434343, 13.48484848,\n",
       "       13.53535354, 13.58585859, 13.63636364, 13.68686869, 13.73737374,\n",
       "       13.78787879, 13.83838384, 13.88888889, 13.93939394, 13.98989899,\n",
       "       14.04040404, 14.09090909, 14.14141414, 14.19191919, 14.24242424,\n",
       "       14.29292929, 14.34343434, 14.39393939, 14.44444444, 14.49494949,\n",
       "       14.54545455, 14.5959596 , 14.64646465, 14.6969697 , 14.74747475,\n",
       "       14.7979798 , 14.84848485, 14.8989899 , 14.94949495, 15.        ])"
      ]
     },
     "execution_count": 5,
     "metadata": {},
     "output_type": "execute_result"
    }
   ],
   "source": [
    "# your code here\n",
    "\n",
    "import numpy as np\n",
    "\n",
    "def udrn(bottom, ceiling, count):\n",
    "    x = np.linspace(bottom,ceiling,count)\n",
    "    return x\n",
    "\n",
    "bottom = 10 \n",
    "ceiling = 15\n",
    "count = 100\n",
    "\n",
    "udrn(bottom, ceiling, count)"
   ]
  },
  {
   "cell_type": "code",
   "execution_count": 6,
   "metadata": {},
   "outputs": [
    {
     "data": {
      "text/plain": [
       "array([10.        , 10.50505051, 11.01010101, 11.51515152, 12.02020202,\n",
       "       12.52525253, 13.03030303, 13.53535354, 14.04040404, 14.54545455,\n",
       "       15.05050505, 15.55555556, 16.06060606, 16.56565657, 17.07070707,\n",
       "       17.57575758, 18.08080808, 18.58585859, 19.09090909, 19.5959596 ,\n",
       "       20.1010101 , 20.60606061, 21.11111111, 21.61616162, 22.12121212,\n",
       "       22.62626263, 23.13131313, 23.63636364, 24.14141414, 24.64646465,\n",
       "       25.15151515, 25.65656566, 26.16161616, 26.66666667, 27.17171717,\n",
       "       27.67676768, 28.18181818, 28.68686869, 29.19191919, 29.6969697 ,\n",
       "       30.2020202 , 30.70707071, 31.21212121, 31.71717172, 32.22222222,\n",
       "       32.72727273, 33.23232323, 33.73737374, 34.24242424, 34.74747475,\n",
       "       35.25252525, 35.75757576, 36.26262626, 36.76767677, 37.27272727,\n",
       "       37.77777778, 38.28282828, 38.78787879, 39.29292929, 39.7979798 ,\n",
       "       40.3030303 , 40.80808081, 41.31313131, 41.81818182, 42.32323232,\n",
       "       42.82828283, 43.33333333, 43.83838384, 44.34343434, 44.84848485,\n",
       "       45.35353535, 45.85858586, 46.36363636, 46.86868687, 47.37373737,\n",
       "       47.87878788, 48.38383838, 48.88888889, 49.39393939, 49.8989899 ,\n",
       "       50.4040404 , 50.90909091, 51.41414141, 51.91919192, 52.42424242,\n",
       "       52.92929293, 53.43434343, 53.93939394, 54.44444444, 54.94949495,\n",
       "       55.45454545, 55.95959596, 56.46464646, 56.96969697, 57.47474747,\n",
       "       57.97979798, 58.48484848, 58.98989899, 59.49494949, 60.        ])"
      ]
     },
     "execution_count": 6,
     "metadata": {},
     "output_type": "execute_result"
    }
   ],
   "source": [
    "bottom = 10\n",
    "ceiling = 60\n",
    "count = 100\n",
    "\n",
    "udrn(bottom, ceiling, count)"
   ]
  },
  {
   "cell_type": "markdown",
   "metadata": {},
   "source": [
    "How are the two distributions different?"
   ]
  },
  {
   "cell_type": "code",
   "execution_count": null,
   "metadata": {},
   "outputs": [],
   "source": [
    "# your answer below"
   ]
  },
  {
   "cell_type": "markdown",
   "metadata": {},
   "source": [
    "## Normal Distribution\n",
    "\n",
    "1. In the same way in the Uniform Distribution challenge, write a function that generates normally distributed random numbers.\n",
    "1. Generate 1,000 normally distributed numbers with the average of 10 and standard deviation of 1\n",
    "1. Generate 1,000 normally distributed numbers with the average of 10 and standard deviation of 50\n",
    "2. Plot the distributions of the data generated.\n",
    "\n",
    "Expected output:\n",
    "\n",
    "![normal distribution](nd.png)"
   ]
  },
  {
   "cell_type": "code",
   "execution_count": null,
   "metadata": {},
   "outputs": [],
   "source": [
    "# your code here"
   ]
  },
  {
   "cell_type": "markdown",
   "metadata": {},
   "source": [
    "How are the two distributions different?"
   ]
  },
  {
   "cell_type": "code",
   "execution_count": null,
   "metadata": {},
   "outputs": [],
   "source": [
    "# your answer below"
   ]
  },
  {
   "cell_type": "markdown",
   "metadata": {},
   "source": [
    "## Normal Distribution of Real Data\n",
    "\n",
    "In this challenge we are going to take a look the real data. We will use vehicles.csv file for this exercise"
   ]
  },
  {
   "cell_type": "markdown",
   "metadata": {},
   "source": [
    "First import vehicles.csv.\n",
    "Then plot the histograms for the following variables:\n",
    "\n",
    "1. Fuel Barrels/Year"
   ]
  },
  {
   "cell_type": "code",
   "execution_count": null,
   "metadata": {},
   "outputs": [],
   "source": [
    "# your code here"
   ]
  },
  {
   "cell_type": "markdown",
   "metadata": {},
   "source": [
    "2. CO2 Emission Grams/Mile "
   ]
  },
  {
   "cell_type": "code",
   "execution_count": null,
   "metadata": {},
   "outputs": [],
   "source": [
    "# your code here"
   ]
  },
  {
   "cell_type": "markdown",
   "metadata": {},
   "source": [
    "3. Combined MPG"
   ]
  },
  {
   "cell_type": "code",
   "execution_count": null,
   "metadata": {},
   "outputs": [],
   "source": [
    "# your code here"
   ]
  },
  {
   "cell_type": "markdown",
   "metadata": {},
   "source": [
    "Which one(s) of the variables are nearly normally distributed? How do you know?"
   ]
  },
  {
   "cell_type": "code",
   "execution_count": null,
   "metadata": {},
   "outputs": [],
   "source": [
    "# your answer here"
   ]
  },
  {
   "cell_type": "markdown",
   "metadata": {},
   "source": [
    "## Exponential Distribution"
   ]
  },
  {
   "cell_type": "markdown",
   "metadata": {},
   "source": [
    "1. Using `numpy.random.exponential`, create a function that returns a list of numbers exponentially distributed with the mean of 10. \n",
    "\n",
    "1. Use the function to generate two number sequences with the size of 1 and 100.\n",
    "\n",
    "1. Plot the distributions as histograms with the nubmer of bins as 100.\n",
    "\n",
    "Your output should look like below:\n",
    "\n",
    "![exponential distribution](ed.png)"
   ]
  },
  {
   "cell_type": "code",
   "execution_count": null,
   "metadata": {},
   "outputs": [],
   "source": [
    "# your code here"
   ]
  },
  {
   "cell_type": "markdown",
   "metadata": {},
   "source": [
    "How are the two distributions different?"
   ]
  },
  {
   "cell_type": "code",
   "execution_count": null,
   "metadata": {},
   "outputs": [],
   "source": [
    "# your answer here"
   ]
  },
  {
   "cell_type": "markdown",
   "metadata": {},
   "source": [
    "## Exponential Distribution of Real Data\n",
    "\n",
    "Suppose that the amount of time one spends in a bank is exponentially distributed with mean as 10 minutes (i.e. λ = 1/10). What is the probability that a customer will spend less than fifteen minutes in the bank? \n",
    "\n",
    "Write a code in python to solve this problem"
   ]
  },
  {
   "cell_type": "code",
   "execution_count": null,
   "metadata": {},
   "outputs": [],
   "source": [
    "# your answer here\n",
    "# Hint: This is same as saying P(x<15)"
   ]
  },
  {
   "cell_type": "markdown",
   "metadata": {},
   "source": [
    "What is the probability that the customer will spend more than 15 minutes"
   ]
  },
  {
   "cell_type": "code",
   "execution_count": null,
   "metadata": {},
   "outputs": [],
   "source": [
    "# your answer here"
   ]
  },
  {
   "cell_type": "code",
   "execution_count": null,
   "metadata": {},
   "outputs": [],
   "source": []
  }
 ],
 "metadata": {
  "kernelspec": {
   "display_name": "Python 3",
   "language": "python",
   "name": "python3"
  },
  "language_info": {
   "codemirror_mode": {
    "name": "ipython",
    "version": 3
   },
   "file_extension": ".py",
   "mimetype": "text/x-python",
   "name": "python",
   "nbconvert_exporter": "python",
   "pygments_lexer": "ipython3",
   "version": "3.8.5"
  }
 },
 "nbformat": 4,
 "nbformat_minor": 2
}
